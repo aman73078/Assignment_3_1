{
 "cells": [
  {
   "cell_type": "code",
   "execution_count": 71,
   "id": "67ebbff8-d0a1-49dc-9e9f-5126dfd46cbf",
   "metadata": {},
   "outputs": [],
   "source": [
    "# Q1. Which keyword is used to create a function? Create a function to return a list of odd numbers\n",
    "#     in the range of 1 to 25."
   ]
  },
  {
   "cell_type": "code",
   "execution_count": 72,
   "id": "e29a3ce3-1085-45f3-a841-d2d747bd6fab",
   "metadata": {},
   "outputs": [],
   "source": [
    "# Ans- The def keyword is used to create, (or define) a function.\n",
    "\n",
    "# A function to return a list of odd numbers in the range of 1 to 25.\n",
    "\n",
    "my_list = list(range(1,26))\n",
    "\n",
    "def odd_num(my_list):\n",
    "    odd_list = []\n",
    "    for i in my_list:\n",
    "        if i % 2 != 0:\n",
    "            odd_list.append(i)\n",
    "    return odd_list"
   ]
  },
  {
   "cell_type": "code",
   "execution_count": 73,
   "id": "590cf8d9-eb2d-4959-a5d6-e680c186a95e",
   "metadata": {},
   "outputs": [
    {
     "data": {
      "text/plain": [
       "[1, 3, 5, 7, 9, 11, 13, 15, 17, 19, 21, 23, 25]"
      ]
     },
     "execution_count": 73,
     "metadata": {},
     "output_type": "execute_result"
    }
   ],
   "source": [
    "odd_num(my_list)"
   ]
  },
  {
   "cell_type": "code",
   "execution_count": 74,
   "id": "4948d021-583d-4116-ba31-7ed759131467",
   "metadata": {},
   "outputs": [
    {
     "data": {
      "text/plain": [
       "[1, 3, 5, 7, 9, 11, 13, 15, 17, 19, 21, 23, 25]"
      ]
     },
     "execution_count": 74,
     "metadata": {},
     "output_type": "execute_result"
    }
   ],
   "source": [
    "                               # or\n",
    "list(filter(lambda x : x % 2 != 0, my_list))    "
   ]
  },
  {
   "cell_type": "code",
   "execution_count": 75,
   "id": "66e72f78-b8e3-4bc4-b885-d4760721e490",
   "metadata": {},
   "outputs": [],
   "source": [
    "# Q2. Why *args and **kwargs is used in some functions? Create a function each for *args and \n",
    "#     **kwargs to demonstrate their use."
   ]
  },
  {
   "cell_type": "code",
   "execution_count": 76,
   "id": "99650a08-398c-489e-985a-6c5be01da600",
   "metadata": {},
   "outputs": [],
   "source": [
    "# Ans- We use *args and **kwargs as arguments of a function when you are unsure about the \n",
    "#      number of arguments to pass in the functions.\n"
   ]
  },
  {
   "cell_type": "code",
   "execution_count": 77,
   "id": "2b3e47ad-fd01-4aa3-b777-6fe2b0e87422",
   "metadata": {},
   "outputs": [
    {
     "data": {
      "text/plain": [
       "36"
      ]
     },
     "execution_count": 77,
     "metadata": {},
     "output_type": "execute_result"
    }
   ],
   "source": [
    "# Function of *args:- This function returns Summation of elements.\n",
    "\n",
    "from functools import reduce\n",
    "def func(*args):\n",
    "    return args\n",
    "reduce(lambda x,y : x+y, func(1,2,3,4,5,6,7,8))"
   ]
  },
  {
   "cell_type": "code",
   "execution_count": 78,
   "id": "3c20262b-3a05-4196-b3b8-f6cb6cb9f984",
   "metadata": {},
   "outputs": [
    {
     "data": {
      "text/plain": [
       "36"
      ]
     },
     "execution_count": 78,
     "metadata": {},
     "output_type": "execute_result"
    }
   ],
   "source": [
    "                                  # or\n",
    "\n",
    "def func1(*num):\n",
    "    sum = 0\n",
    "    for i in num:\n",
    "        sum = sum + i\n",
    "    return sum    \n",
    "\n",
    "func1(1,2,3,4,5,6,7,8)"
   ]
  },
  {
   "cell_type": "code",
   "execution_count": 79,
   "id": "39885e63-94cb-4387-a44c-13879d172a2a",
   "metadata": {},
   "outputs": [
    {
     "name": "stdout",
     "output_type": "stream",
     "text": [
      "The keys of this Dictionary : dict_keys(['name', 'roll_num', 'birth'])\n",
      "The values of this Dictionary : dict_values(['aman', 3837, '09/03/2003'])\n"
     ]
    }
   ],
   "source": [
    "# function of kwargs:- This function returns key and value of the dictionary\n",
    "\n",
    "def func2(**kwargs):\n",
    "    print(\"The keys of this Dictionary :\", kwargs.keys())\n",
    "    print(\"The values of this Dictionary :\", kwargs.values())\n",
    "\n",
    "func2(name = \"aman\", roll_num = 3837, birth = \"09/03/2003\")     "
   ]
  },
  {
   "cell_type": "code",
   "execution_count": 80,
   "id": "0fdd24de-01b4-432f-9c7f-aaea6462ece9",
   "metadata": {},
   "outputs": [],
   "source": [
    "# Q3. What is an iterator in python? Name the method used to initialise the iterator object and \n",
    "#     the method used for iteration. Use these methods to print the first five elements of the \n",
    "#     given list [2, 4, 6, 8, 10, 12, 14, 16, 18, 20]."
   ]
  },
  {
   "cell_type": "code",
   "execution_count": 81,
   "id": "369a70e6-d729-48b8-abe2-49d4f70d27c9",
   "metadata": {},
   "outputs": [
    {
     "name": "stdout",
     "output_type": "stream",
     "text": [
      "The first element of the given list : 2\n"
     ]
    }
   ],
   "source": [
    "# Ans- An iterator is an object that allows to iterate over collection of data, such as list, \n",
    "#      tuples, dictonaries and sets. Iter() method is used to initialise the iterator object and \n",
    "#      next() method used for iteration. \n",
    "\n",
    "num_list = [2, 4, 6, 8, 10, 12, 14, 16, 18, 20]\n",
    "i_list = iter(num_list)\n",
    "print(\"The first element of the given list :\", next(i_list))"
   ]
  },
  {
   "cell_type": "code",
   "execution_count": 82,
   "id": "dfe87ee9-f314-4a49-b5a1-8791241a6ff2",
   "metadata": {},
   "outputs": [
    {
     "name": "stdout",
     "output_type": "stream",
     "text": [
      "The first element of the given list : 4\n"
     ]
    }
   ],
   "source": [
    "print(\"The first element of the given list :\", next(i_list))"
   ]
  },
  {
   "cell_type": "code",
   "execution_count": 83,
   "id": "49615a99-6604-4037-b04e-a216f80c020d",
   "metadata": {},
   "outputs": [
    {
     "name": "stdout",
     "output_type": "stream",
     "text": [
      "The first element of the given list : 6\n"
     ]
    }
   ],
   "source": [
    "print(\"The first element of the given list :\", next(i_list))"
   ]
  },
  {
   "cell_type": "code",
   "execution_count": 84,
   "id": "8ffb0987-6d90-4646-b845-139c9e344675",
   "metadata": {},
   "outputs": [
    {
     "name": "stdout",
     "output_type": "stream",
     "text": [
      "The first element of the given list : 8\n"
     ]
    }
   ],
   "source": [
    "print(\"The first element of the given list :\", next(i_list))"
   ]
  },
  {
   "cell_type": "code",
   "execution_count": 85,
   "id": "d0a700e2-d83e-4116-9607-9ef65ecb697e",
   "metadata": {},
   "outputs": [
    {
     "name": "stdout",
     "output_type": "stream",
     "text": [
      "The first element of the given list : 10\n"
     ]
    }
   ],
   "source": [
    "print(\"The first element of the given list :\", next(i_list))"
   ]
  },
  {
   "cell_type": "code",
   "execution_count": 86,
   "id": "2f2883bc-f84e-4344-9906-616d4377f303",
   "metadata": {},
   "outputs": [],
   "source": [
    "# Q4. What is a generator function in python? Why yield keyword is used? Give an example of a \n",
    "#     generator function."
   ]
  },
  {
   "cell_type": "code",
   "execution_count": 87,
   "id": "84de418e-6388-4a0a-a4c2-6634e2b65d15",
   "metadata": {},
   "outputs": [],
   "source": [
    "# Ans- A generator function is a function that allows you to declare a function that behaves like \n",
    "#      an iterator, providing a faster and easier way to create iterators. Yield keyword is used \n",
    "#      to convert an expression that is specified along with it to a generator object and return \n",
    "#      it to the caller.\n",
    "\n",
    "def add(l):\n",
    "    count = 0\n",
    "    while count<=l:\n",
    "        yield count\n",
    "        count = count+2\n",
    "        "
   ]
  },
  {
   "cell_type": "code",
   "execution_count": 88,
   "id": "8976a336-f280-4c73-ae67-ffe075a03c87",
   "metadata": {},
   "outputs": [
    {
     "name": "stdout",
     "output_type": "stream",
     "text": [
      "0\n",
      "2\n",
      "4\n",
      "6\n",
      "8\n",
      "10\n"
     ]
    }
   ],
   "source": [
    "for i in add(10):\n",
    "    print(i)"
   ]
  },
  {
   "cell_type": "code",
   "execution_count": 89,
   "id": "5376b088-4854-4180-8b99-8171f6046978",
   "metadata": {},
   "outputs": [],
   "source": [
    "# Q5. Create a generator function for prime numbers less than 1000. Use the next() method to print \n",
    "#     the first 20 prime numbers."
   ]
  },
  {
   "cell_type": "code",
   "execution_count": 90,
   "id": "19f8533c-77c7-4d2b-a9dd-03bab5679316",
   "metadata": {},
   "outputs": [
    {
     "name": "stdout",
     "output_type": "stream",
     "text": [
      "2\n",
      "3\n",
      "5\n",
      "7\n",
      "11\n",
      "13\n",
      "17\n",
      "19\n",
      "23\n",
      "29\n",
      "31\n",
      "37\n",
      "41\n",
      "43\n",
      "47\n",
      "53\n",
      "59\n",
      "61\n",
      "67\n",
      "71\n"
     ]
    }
   ],
   "source": [
    "# Ans- \n",
    "def generate_prime():\n",
    "    num = 2\n",
    "    while True:\n",
    "        is_prime = True\n",
    "        for i in range(2, int(num**0.5) + 1):\n",
    "            if num % i == 0:\n",
    "                is_prime = False\n",
    "                break\n",
    "        if is_prime:\n",
    "            yield num\n",
    "        num += 1\n",
    "prime_number = generate_prime()\n",
    "\n",
    "for j in range(20):\n",
    "    prime = next(prime_number)\n",
    "    print(prime)"
   ]
  },
  {
   "cell_type": "code",
   "execution_count": 91,
   "id": "247d1b02-1e61-4413-99bf-c0a07ca1e8f0",
   "metadata": {},
   "outputs": [],
   "source": [
    "# Q6. Write a python program to print the first 10 Fibonacci numbers using a while loop."
   ]
  },
  {
   "cell_type": "code",
   "execution_count": 93,
   "id": "28ba6873-7666-4f49-9e74-d23000a0ad3b",
   "metadata": {},
   "outputs": [
    {
     "name": "stdin",
     "output_type": "stream",
     "text": [
      "enter any number :  40\n"
     ]
    },
    {
     "name": "stdout",
     "output_type": "stream",
     "text": [
      "0\n",
      "1\n",
      "1\n",
      "2\n",
      "3\n",
      "5\n",
      "8\n",
      "13\n",
      "21\n",
      "34\n"
     ]
    }
   ],
   "source": [
    "# Ans- \n",
    "\n",
    "num_1 = int(input(\"enter any number : \"))\n",
    "a = 0\n",
    "b = 1\n",
    "c = 0\n",
    "while c<=num_1:\n",
    "    print(c)\n",
    "    a = b\n",
    "    b = c\n",
    "    c = a + b  "
   ]
  },
  {
   "cell_type": "code",
   "execution_count": 94,
   "id": "765f08a2-f068-4e42-9a2b-2fff8f58aa26",
   "metadata": {},
   "outputs": [],
   "source": [
    "# Q7. Write a List Comprehension to iterate through the given string: ‘pwskills’.\n",
    "#     Expected output: ['p', 'w', 's', 'k', 'i', 'l', 'l', 's']"
   ]
  },
  {
   "cell_type": "code",
   "execution_count": 95,
   "id": "170913cd-b03e-4a95-92e8-60bf4f5e07cd",
   "metadata": {},
   "outputs": [
    {
     "name": "stdout",
     "output_type": "stream",
     "text": [
      "The new string is :  ['p', 'w', 's', 'k', 'i', 'l', 'l', 's']\n"
     ]
    }
   ],
   "source": [
    "# Ans- \n",
    "\n",
    "s = \"pwskills\"\n",
    "l = []\n",
    "l.extend(s)\n",
    "print(\"The new string is : \", l)"
   ]
  },
  {
   "cell_type": "code",
   "execution_count": 96,
   "id": "5b7ee2d3-f4fd-4144-9949-22bb401e99ea",
   "metadata": {},
   "outputs": [],
   "source": [
    "# Q8. Write a python program to check whether a given number is Palindrome or not using a while \n",
    "#     loop."
   ]
  },
  {
   "cell_type": "code",
   "execution_count": 97,
   "id": "5c9059c1-d8ae-4e06-907a-7ad9aa80e0f1",
   "metadata": {},
   "outputs": [
    {
     "name": "stdin",
     "output_type": "stream",
     "text": [
      "enter any number :  121\n"
     ]
    },
    {
     "name": "stdout",
     "output_type": "stream",
     "text": [
      "This number is a palindrome :\n"
     ]
    }
   ],
   "source": [
    "# Ans-\n",
    "\n",
    "num = int(input(\"enter any number : \"))\n",
    "rev = 0\n",
    "temp = num\n",
    "while num > 0:\n",
    "    rev = (rev*10) + num % 10\n",
    "    num = num//10\n",
    "if temp == rev:\n",
    "    print(\"This number is a palindrome :\")\n",
    "else:\n",
    "    print(\"This number is not a palindrome\")"
   ]
  },
  {
   "cell_type": "code",
   "execution_count": 98,
   "id": "6002968a-2d90-4716-833a-edb0309839ee",
   "metadata": {},
   "outputs": [],
   "source": [
    "# Q9. Write a code to print odd numbers from 1 to 100 using list comprehension.\n",
    "#     Note: Use a list comprehension to create a list from 1 to 100 and use another List \n",
    "#           comprehension to filter out odd numbers."
   ]
  },
  {
   "cell_type": "code",
   "execution_count": 99,
   "id": "85ad8a93-a5d3-42d9-92eb-8ebe78a22b8b",
   "metadata": {},
   "outputs": [
    {
     "name": "stdout",
     "output_type": "stream",
     "text": [
      "The new list of odd number :  [1, 3, 5, 7, 9, 11, 13, 15, 17, 19, 21, 23, 25, 27, 29, 31, 33, 35, 37, 39, 41, 43, 45, 47, 49, 51, 53, 55, 57, 59, 61, 63, 65, 67, 69, 71, 73, 75, 77, 79, 81, 83, 85, 87, 89, 91, 93, 95, 97, 99]\n"
     ]
    }
   ],
   "source": [
    "# Ans- List comprehension:-\n",
    "\n",
    "list_num = list(range(1,101))\n",
    "odd_num_list = []\n",
    "for element in list_num:\n",
    "    if element % 2 != 0:\n",
    "        odd_num_list.append(element)\n",
    "print(\"The new list of odd number : \", odd_num_list)"
   ]
  },
  {
   "cell_type": "code",
   "execution_count": null,
   "id": "a10d6b75-51f2-460a-9a7f-410dedeaf39b",
   "metadata": {},
   "outputs": [],
   "source": []
  }
 ],
 "metadata": {
  "kernelspec": {
   "display_name": "Python 3 (ipykernel)",
   "language": "python",
   "name": "python3"
  },
  "language_info": {
   "codemirror_mode": {
    "name": "ipython",
    "version": 3
   },
   "file_extension": ".py",
   "mimetype": "text/x-python",
   "name": "python",
   "nbconvert_exporter": "python",
   "pygments_lexer": "ipython3",
   "version": "3.10.8"
  }
 },
 "nbformat": 4,
 "nbformat_minor": 5
}
